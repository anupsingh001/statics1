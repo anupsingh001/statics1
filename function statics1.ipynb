{
 "cells": [
  {
   "cell_type": "code",
   "execution_count": null,
   "id": "46a563cb",
   "metadata": {},
   "outputs": [],
   "source": []
  },
  {
   "cell_type": "code",
   "execution_count": null,
   "id": "9a29f413",
   "metadata": {},
   "outputs": [],
   "source": [
    "#1\n",
    "import statistics\n",
    "\n",
    "data = [10, 12, 23, 23, 16, 23, 21, 16]\n",
    "\n",
    "mean = statistics.mean(data)\n",
    "median = statistics.median(data)\n",
    "mode = statistics.mode(data)\n",
    "\n",
    "print(\"Mean:\", mean)\n",
    "print(\"Median:\", median)\n",
    "print(\"Mode:\", mode)\n"
   ]
  },
  {
   "cell_type": "code",
   "execution_count": null,
   "id": "a86908fb",
   "metadata": {},
   "outputs": [],
   "source": [
    "#2 \n",
    "import statistics\n",
    "\n",
    "data = [10, 12, 23, 23, 16, 23, 21, 16]\n",
    "\n",
    "variance = statistics.variance(data)\n",
    "std_dev = statistics.stdev(data)\n",
    "\n",
    "print(\"Variance:\", variance)\n",
    "print(\"Standard Deviation:\", std_dev)\n"
   ]
  },
  {
   "cell_type": "code",
   "execution_count": null,
   "id": "a16cef3a",
   "metadata": {},
   "outputs": [],
   "source": [
    "#3# Dataset\n",
    "data = {\n",
    "    \"Color\": [\"Red\", \"Blue\", \"Green\", \"Red\"],  # Nominal\n",
    "    \"Satisfaction\": [\"Low\", \"Medium\", \"High\", \"Medium\"],  # Ordinal\n",
    "    \"Temperature (°C)\": [30, 25, 28, 22],  # Interval\n",
    "    \"Income (USD)\": [1000, 2000, 1500, 2500]  # Ratio\n",
    "}\n"
   ]
  },
  {
   "cell_type": "code",
   "execution_count": null,
   "id": "65a3327f",
   "metadata": {},
   "outputs": [],
   "source": [
    "#4\n",
    "import pandas as pd\n",
    "from sklearn.model_selection import train_test_split\n",
    "\n",
    "# Sample dataset\n",
    "df = pd.DataFrame({\n",
    "    'Gender': ['Male', 'Female', 'Male', 'Female', 'Male', 'Female'],\n",
    "    'Score': [88, 92, 85, 90, 87, 95]\n",
    "})\n",
    "\n",
    "# Random Sampling\n",
    "random_sample = df.sample(n=3, random_state=1)\n",
    "\n",
    "# Stratified Sampling\n",
    "stratified_sample, _ = train_test_split(df, test_size=0.5, stratify=df['Gender'], random_state=1)\n",
    "\n",
    "print(\"Random Sample:\\n\", random_sample)\n",
    "print(\"Stratified Sample:\\n\", stratified_sample)\n"
   ]
  },
  {
   "cell_type": "code",
   "execution_count": null,
   "id": "d2b694bb",
   "metadata": {},
   "outputs": [],
   "source": [
    "#5\n",
    "def calculate_range(data):\n",
    "    return max(data) - min(data)\n",
    "\n",
    "data = [10, 12, 23, 23, 16, 23, 21, 16]\n",
    "print(\"Range:\", calculate_range(data))\n"
   ]
  },
  {
   "cell_type": "code",
   "execution_count": null,
   "id": "588a1c56",
   "metadata": {},
   "outputs": [],
   "source": [
    "#6\n",
    "import matplotlib.pyplot as plt\n",
    "\n",
    "data = [10, 12, 12, 13, 14, 14, 15, 16, 18, 30]\n",
    "\n",
    "plt.hist(data, bins=8, color='skyblue', edgecolor='black')\n",
    "plt.title('Histogram to Visualize Skewness')\n",
    "plt.xlabel('Values')\n",
    "plt.ylabel('Frequency')\n",
    "plt.show()\n"
   ]
  },
  {
   "cell_type": "code",
   "execution_count": null,
   "id": "ddb691a5",
   "metadata": {},
   "outputs": [],
   "source": [
    "#7\n",
    "from scipy.stats import skew, kurtosis\n",
    "\n",
    "data = [10, 12, 12, 13, 14, 14, 15, 16, 18, 30]\n",
    "\n",
    "print(\"Skewness:\", skew(data))\n",
    "print(\"Kurtosis:\", kurtosis(data))\n"
   ]
  },
  {
   "cell_type": "code",
   "execution_count": null,
   "id": "76363c3f",
   "metadata": {},
   "outputs": [],
   "source": [
    "#8\n",
    "import numpy as np\n",
    "import seaborn as sns\n",
    "import matplotlib.pyplot as plt\n",
    "\n",
    "# Positive skew\n",
    "pos_skew = np.random.exponential(scale=2, size=1000)\n",
    "\n",
    "# Negative skew (reverse exponential)\n",
    "neg_skew = -np.random.exponential(scale=2, size=1000)\n",
    "\n",
    "plt.figure(figsize=(12, 5))\n",
    "plt.subplot(1, 2, 1)\n",
    "sns.histplot(pos_skew, kde=True)\n",
    "plt.title(\"Positive Skewness\")\n",
    "\n",
    "plt.subplot(1, 2, 2)\n",
    "sns.histplot(neg_skew, kde=True)\n",
    "plt.title(\"Negative Skewness\")\n",
    "\n",
    "plt.tight_layout()\n",
    "plt.show()\n"
   ]
  },
  {
   "cell_type": "code",
   "execution_count": null,
   "id": "58236a49",
   "metadata": {},
   "outputs": [],
   "source": [
    "#9\n",
    "import numpy as np\n",
    "\n",
    "x = [10, 20, 30, 40, 50]\n",
    "y = [12, 24, 33, 45, 54]\n",
    "\n",
    "cov_matrix = np.cov(x, y)\n",
    "covariance = cov_matrix[0, 1]\n",
    "\n",
    "print(\"Covariance:\", covariance)\n"
   ]
  },
  {
   "cell_type": "code",
   "execution_count": null,
   "id": "64fa8b1a",
   "metadata": {},
   "outputs": [],
   "source": [
    "#10\n",
    "import numpy as np\n",
    "\n",
    "x = [10, 20, 30, 40, 50]\n",
    "y = [12, 24, 33, 45, 54]\n",
    "\n",
    "correlation = np.corrcoef(x, y)[0, 1]\n",
    "print(\"Correlation Coefficient:\", correlation)\n"
   ]
  },
  {
   "cell_type": "code",
   "execution_count": null,
   "id": "9ca9e07c",
   "metadata": {},
   "outputs": [],
   "source": [
    "#11\n",
    "import matplotlib.pyplot as plt\n",
    "\n",
    "x = [10, 20, 30, 40, 50]\n",
    "y = [12, 24, 33, 45, 54]\n",
    "\n",
    "plt.scatter(x, y, color='red')\n",
    "plt.title(\"Scatter Plot\")\n",
    "plt.xlabel(\"X values\")\n",
    "plt.ylabel(\"Y values\")\n",
    "plt.grid(True)\n",
    "plt.show()\n"
   ]
  },
  {
   "cell_type": "code",
   "execution_count": null,
   "id": "6863d57a",
   "metadata": {},
   "outputs": [],
   "source": [
    "#12\n",
    "import numpy as np\n",
    "\n",
    "data = np.arange(1, 101)  # Dataset of 100 items\n",
    "\n",
    "# Simple Random Sampling\n",
    "random_sample = np.random.choice(data, size=10, replace=False)\n",
    "\n",
    "# Systematic Sampling\n",
    "k = len(data) // 10\n",
    "start = np.random.randint(0, k)\n",
    "systematic_sample = data[start::k][:10]\n",
    "\n",
    "print(\"Random Sample:\", random_sample)\n",
    "print(\"Systematic Sample:\", systematic_sample)\n"
   ]
  },
  {
   "cell_type": "code",
   "execution_count": null,
   "id": "8c8a7eb1",
   "metadata": {},
   "outputs": [],
   "source": [
    "#13\n",
    "import pandas as pd\n",
    "\n",
    "# Grouped data (class intervals and frequencies)\n",
    "data = {\n",
    "    'Class Interval': ['0-10', '10-20', '20-30'],\n",
    "    'Frequency': [5, 15, 10]\n",
    "}\n",
    "\n",
    "df = pd.DataFrame(data)\n",
    "\n",
    "# Midpoints\n",
    "df['Midpoint'] = df['Class Interval'].apply(lambda x: (int(x.split('-')[0]) + int(x.split('-')[1])) / 2)\n",
    "\n",
    "# Mean\n",
    "mean = sum(df['Midpoint'] * df['Frequency']) / sum(df['Frequency'])\n",
    "print(\"Grouped Mean:\", mean)\n",
    "\n",
    "# Median and mode would typically require cumulative frequencies and interpolation.\n"
   ]
  },
  {
   "cell_type": "code",
   "execution_count": null,
   "id": "f801c09b",
   "metadata": {},
   "outputs": [],
   "source": [
    "#14\n",
    "import numpy as np\n",
    "import statistics\n",
    "\n",
    "# Simulated data\n",
    "data = np.random.normal(loc=50, scale=10, size=100)\n",
    "\n",
    "mean = statistics.mean(data)\n",
    "median = statistics.median(data)\n",
    "mode = statistics.mode(data)\n",
    "variance = statistics.variance(data)\n",
    "std_dev = statistics.stdev(data)\n",
    "\n",
    "print(\"Mean:\", mean)\n",
    "print(\"Median:\", median)\n",
    "print(\"Mode:\", mode)\n",
    "print(\"Variance:\", variance)\n",
    "print(\"Standard Deviation:\", std_dev)\n"
   ]
  },
  {
   "cell_type": "code",
   "execution_count": null,
   "id": "d18374ad",
   "metadata": {},
   "outputs": [],
   "source": [
    "#15\n",
    "import pandas as pd\n",
    "import numpy as np\n",
    "\n",
    "# Generate dataset\n",
    "data = pd.DataFrame({\n",
    "    'Height': np.random.normal(165, 10, 100),\n",
    "    'Weight': np.random.normal(65, 15, 100)\n",
    "})\n",
    "\n",
    "# Summary statistics\n",
    "print(data.describe())\n"
   ]
  },
  {
   "cell_type": "code",
   "execution_count": null,
   "id": "25b9feff",
   "metadata": {},
   "outputs": [],
   "source": [
    "#16\n",
    "import seaborn as sns\n",
    "import matplotlib.pyplot as plt\n",
    "\n",
    "sns.boxplot(data=data)\n",
    "plt.title(\"Boxplot of Height and Weight\")\n",
    "plt.show()\n"
   ]
  },
  {
   "cell_type": "code",
   "execution_count": null,
   "id": "b8a0135c",
   "metadata": {},
   "outputs": [],
   "source": [
    "#17\n",
    "Q1 = data['Height'].quantile(0.25)\n",
    "Q3 = data['Height'].quantile(0.75)\n",
    "IQR = Q3 - Q1\n",
    "\n",
    "print(\"Interquartile Range (IQR):\", IQR)\n"
   ]
  },
  {
   "cell_type": "code",
   "execution_count": null,
   "id": "c4d43b5a",
   "metadata": {},
   "outputs": [],
   "source": [
    "#18\n",
    "from scipy.stats import zscore\n",
    "\n",
    "data['Height_z'] = zscore(data['Height'])\n",
    "\n",
    "print(data[['Height', 'Height_z']].head())\n",
    "\n"
   ]
  },
  {
   "cell_type": "code",
   "execution_count": null,
   "id": "a065c429",
   "metadata": {},
   "outputs": [],
   "source": [
    "#19\n",
    "std_height = data['Height'].std()\n",
    "std_weight = data['Weight'].std()\n",
    "\n",
    "print(\"Height SD:\", std_height)\n",
    "print(\"Weight SD:\", std_weight)\n",
    "\n",
    "if std_height > std_weight:\n",
    "    print(\"Height is more dispersed.\")\n",
    "else:\n",
    "    print(\"Weight is more dispersed.\")\n"
   ]
  },
  {
   "cell_type": "code",
   "execution_count": null,
   "id": "35628397",
   "metadata": {},
   "outputs": [],
   "source": [
    "#20\n",
    "cov_matrix = data.cov()\n",
    "\n",
    "sns.heatmap(cov_matrix, annot=True, cmap=\"YlGnBu\")\n",
    "plt.title(\"Covariance Heatmap\")\n",
    "plt.show()\n"
   ]
  },
  {
   "cell_type": "code",
   "execution_count": null,
   "id": "cc7f0f53",
   "metadata": {},
   "outputs": [],
   "source": [
    "#21\n",
    "corr_matrix = data.corr()\n",
    "\n",
    "sns.heatmap(corr_matrix, annot=True, cmap=\"coolwarm\", fmt=\".2f\")\n",
    "plt.title(\"Correlation Matrix\")\n",
    "plt.show()\n"
   ]
  },
  {
   "cell_type": "code",
   "execution_count": null,
   "id": "29d29454",
   "metadata": {},
   "outputs": [],
   "source": [
    "#22\n",
    "# Generate data\n",
    "sample_data = np.random.normal(loc=100, scale=20, size=50)\n",
    "\n",
    "# Compute\n",
    "variance = np.var(sample_data, ddof=1)\n",
    "std_dev = np.std(sample_data, ddof=1)\n",
    "\n",
    "print(\"Variance:\", variance)\n",
    "print(\"Standard Deviation:\", std_dev)\n"
   ]
  },
  {
   "cell_type": "code",
   "execution_count": null,
   "id": "467c907f",
   "metadata": {},
   "outputs": [],
   "source": [
    "#23\n",
    "from scipy.stats import skew, kurtosis\n",
    "\n",
    "data_series = pd.Series(np.random.exponential(scale=2, size=1000))\n",
    "\n",
    "# Plot\n",
    "sns.histplot(data_series, kde=True)\n",
    "plt.title(f\"Skewness: {skew(data_series):.2f}, Kurtosis: {kurtosis(data_series):.2f}\")\n",
    "plt.show()\n"
   ]
  },
  {
   "cell_type": "code",
   "execution_count": null,
   "id": "dafd69c4",
   "metadata": {},
   "outputs": [],
   "source": [
    "#24\n",
    "from scipy.stats import pearsonr, spearmanr\n",
    "\n",
    "# Generate two variables\n",
    "x = np.random.rand(100)\n",
    "y = 2 * x + np.random.normal(0, 0.1, 100)\n",
    "\n",
    "# Pearson correlation\n",
    "pearson_corr, _ = pearsonr(x, y)\n",
    "\n",
    "# Spearman correlation\n",
    "spearman_corr, _ = spearmanr(x, y)\n",
    "\n",
    "print(\"Pearson Correlation:\", pearson_corr)\n",
    "print(\"Spearman Correlation:\", spearman_corr)\n"
   ]
  },
  {
   "cell_type": "code",
   "execution_count": null,
   "id": "3a5335c0",
   "metadata": {},
   "outputs": [],
   "source": [
    "25 # please check i think i mistake in question numbering "
   ]
  }
 ],
 "metadata": {
  "language_info": {
   "name": "python"
  }
 },
 "nbformat": 4,
 "nbformat_minor": 5
}
